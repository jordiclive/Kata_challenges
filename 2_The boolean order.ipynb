{
 "cells": [
  {
   "cell_type": "markdown",
   "metadata": {},
   "source": [
    "kata can be found at: https://www.codewars.com/kata/the-boolean-order/train/python\n",
    "\n",
    "grade: 3kyu\n",
    "\n",
    "Very messy without standard  caching/memoization"
   ]
  },
  {
   "cell_type": "markdown",
   "metadata": {},
   "source": [
    "<span style=\"color:red\">\n",
    "In this Kata, you will be given boolean values and boolean operators. Your task will be to return the number of arrangements that evaluate to True.\n",
    "\n",
    "t,f will stand for true, false and the operators will be Boolean AND (&), OR (|), and XOR (^).\n",
    "\n",
    "For example, solve(\"tft\",\"^&\") = 2, as follows:\n",
    "\n",
    "    \"((t ^ f) & t)\" = True\n",
    "    \"(t ^ (f & t))\" = True\n",
    "\n",
    "Notice that the order of the boolean values and operators does not change. What changes is the position of braces.\n",
    "\n",
    "More examples in the test cases."
   ]
  },
  {
   "cell_type": "markdown",
   "metadata": {},
   "source": [
    "# Solution"
   ]
  },
  {
   "cell_type": "code",
   "execution_count": 2,
   "metadata": {},
   "outputs": [],
   "source": [
    "operators = {\n",
    "    \"^\": lambda x, y: x ^ y,\n",
    "    \"&\": lambda x, y: x and y,\n",
    "    \"|\": lambda x, y: x or y\n",
    "}\n",
    "# define stringed operators as fns, so can evaluate with overall indexed string"
   ]
  },
  {
   "cell_type": "code",
   "execution_count": 4,
   "metadata": {},
   "outputs": [
    {
     "data": {
      "text/plain": [
       "True"
      ]
     },
     "execution_count": 4,
     "metadata": {},
     "output_type": "execute_result"
    }
   ],
   "source": [
    "operators['&'](True, True)  # eg."
   ]
  },
  {
   "cell_type": "code",
   "execution_count": 5,
   "metadata": {},
   "outputs": [],
   "source": [
    "class Memoize:\n",
    "    # Standard memoization class, @lru_cache(maxsize=None), do not have to explictily set up memo, and can store\n",
    "    # most recent calls\n",
    "    def __init__(self, f):\n",
    "        self.f = f\n",
    "        self.memo = {}\n",
    "\n",
    "    def __call__(self, *args):\n",
    "        if not args in self.memo:\n",
    "            self.memo[args] = self.f(*args)\n",
    "        return self.memo[args]"
   ]
  },
  {
   "cell_type": "code",
   "execution_count": null,
   "metadata": {},
   "outputs": [],
   "source": [
    "@Memoize\n",
    "#from functools import lru_cache\n",
    "# @lru_cache(maxsize=None) ## can use this decorator instead of defining the memoize class above\n",
    "def recursive_computation(s, ops):\n",
    "    if len(s) == 1:\n",
    "        return {True: 1, False: 0} if s == 't' else {True: 0, False: 1}\n",
    "    # When there is only one Bool,this is base dictionary count that larger expressions build from\n",
    "    count_bools = {True: 0, False: 0}\n",
    "    # keep a count for each computation, which will be made up of sub computations\n",
    "    for i in range(len(ops)):\n",
    "        L_side, R_side = recursive_computation(\n",
    "            s[:i+1], ops[:i]), recursive_computation(s[i+1:], ops[i+1:])\n",
    "        # recursive formulation, go through each operator, split either side of the operator,\n",
    "        # keep track of the operator, in this case, ops[i] which is excluded from left, right,\n",
    "        # count amount of trues and falses either side then recombine with operator,\n",
    "        # and record the overall no. of possibilities of Trues and Falses\n",
    "        for (x, y) in ((True, True), (False, False), (True, False), (False, True)):\n",
    "            count_bools[operators[ops[i]](x, y)] += L_side[x]*R_side[y]\n",
    "            # operators[ops[i]](x,y) defines what 'left side, operator, right side combo' gives that result\n",
    "            # eg True'fn_&'True gives True\n",
    "            # L_side[x]*R_side[y]  by counting principle, works out how many cases satisfy that,\n",
    "            # eg 2 ways to bracket and be True on left side, 4 ways to be true on right side\n",
    "            # 8 total ways and so on, can work with 1,0s instead of True, False\n",
    "    return count_bools\n",
    "\n",
    "\n",
    "def solve(bools, ops):\n",
    "    return recursive_computation(bools, ops)[True]\n",
    "# Just extract the true count from the dictionary"
   ]
  }
 ],
 "metadata": {
  "kernelspec": {
   "display_name": "Python 3",
   "language": "python",
   "name": "python3"
  },
  "language_info": {
   "codemirror_mode": {
    "name": "ipython",
    "version": 3
   },
   "file_extension": ".py",
   "mimetype": "text/x-python",
   "name": "python",
   "nbconvert_exporter": "python",
   "pygments_lexer": "ipython3",
   "version": "3.7.0"
  },
  "toc": {
   "base_numbering": 1,
   "nav_menu": {},
   "number_sections": false,
   "sideBar": true,
   "skip_h1_title": false,
   "title_cell": "Table of Contents",
   "title_sidebar": "Contents",
   "toc_cell": false,
   "toc_position": {},
   "toc_section_display": true,
   "toc_window_display": true
  }
 },
 "nbformat": 4,
 "nbformat_minor": 2
}
