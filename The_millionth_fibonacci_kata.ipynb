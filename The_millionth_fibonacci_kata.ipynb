{
 "cells": [
  {
   "cell_type": "markdown",
   "metadata": {},
   "source": [
    "# The Millionth Fibonacci Kata"
   ]
  },
  {
   "cell_type": "code",
   "execution_count": 2,
   "metadata": {},
   "outputs": [],
   "source": [
    "\"\"\"Kata can be found at https://www.codewars.com/kata/the-millionth-fibonacci-kata/train/python, \n",
    "grade: 3kyu\"\"\"\n",
    "\n",
    "\n",
    "# Cheekily, this managed to work without timing out: a standard fibonnaci function,\n",
    "#  and account for negative integers, although it is a very slow method and shouldn't be permitted\n",
    "\n",
    "def f_sequence(n):\n",
    "        counter = 1\n",
    "        a,b = 1,1\n",
    "        while counter < n-1:\n",
    "            a, b = a+b, a\n",
    "            counter += 1\n",
    "        return a\n",
    "\n",
    "\n",
    "def fib(n):\n",
    "    if n == 0:\n",
    "        return 0\n",
    "    if n > 0:\n",
    "        return f_sequence(n)\n",
    "    else:\n",
    "        return  int((-1)**(n+1))*f_sequence(abs(n))\n"
   ]
  },
  {
   "cell_type": "code",
   "execution_count": null,
   "metadata": {},
   "outputs": [],
   "source": [
    "# annoying Kata due to rounding and precision of higher Fibonnacci terms"
   ]
  },
  {
   "cell_type": "markdown",
   "metadata": {},
   "source": [
    "Using the hint, the re-arranged recurrence relation, one can derive the formula for the negative index:"
   ]
  },
  {
   "cell_type": "markdown",
   "metadata": {},
   "source": [
    "$F_{n-2}=F_{n}-F_{n-1},$\n",
    "\n",
    "\n",
    "=>    $F_{-n}=(-1)^{n+1}F_{n}$"
   ]
  },
  {
   "cell_type": "code",
   "execution_count": 4,
   "metadata": {},
   "outputs": [],
   "source": [
    "# Using the closed form expression with the golden ratio, won't work due to computation and floating-point arithmetic"
   ]
  },
  {
   "cell_type": "code",
   "execution_count": 5,
   "metadata": {},
   "outputs": [],
   "source": [
    "# One can use the 2-dimensional system of linear difference equations describing the Fibonnaci Sequence, \n",
    "#therefore starting with  fib(1), fib(0) = 1, 0, yields"
   ]
  },
  {
   "cell_type": "markdown",
   "metadata": {},
   "source": [
    "${\\displaystyle {F_{k+2} \\choose F_{k+1}}={\\begin{pmatrix}1&1\\\\1&0\\end{pmatrix}}{F_{k+1} \\choose F_{k}}}$"
   ]
  },
  {
   "cell_type": "markdown",
   "metadata": {},
   "source": [
    "=>  ${\\displaystyle {F_{n+2} \\choose F_{n+1}}={\\begin{pmatrix}1&1\\\\1&0\\end{pmatrix}}^{n+1}{1 \\choose 0}}$"
   ]
  },
  {
   "cell_type": "code",
   "execution_count": 7,
   "metadata": {},
   "outputs": [],
   "source": [
    "# and, therefore the problem can be solved with matrix exponentiation,"
   ]
  },
  {
   "cell_type": "markdown",
   "metadata": {},
   "source": [
    "=>  ${\\begin{pmatrix}1&1\\\\1&0\\end{pmatrix}}^{n}={\\begin{pmatrix}F_{n+1}&F_{n}\\\\F_{n}&F_{n-1}\\end{pmatrix}}$"
   ]
  },
  {
   "cell_type": "markdown",
   "metadata": {},
   "source": [
    "<span style=\"color:blue\">\n",
    "From Wikipedia : Using the identities below, one can calculate F_n\n",
    "recursively in O(log(n)) arithmetic operations and in time O(M(n) log(n)), where M(n) is the time for the multiplication of two numbers of n digits. This matches the time for computing the nth Fibonacci number from the closed-form matrix formula, but with fewer redundant steps if one avoids \n",
    "recomputing an already computed Fibonac ci number (recursion with memoization),\n",
    "so using M(n) wiht np and recursion with memoization would be fastest with this method:\n",
    "    \n",
    "${\\begin{aligned}F_{2n-1}&=F_{n}^{2}+F_{n-1}^{2}\\\\F_{2n}&=(F_{n-1}+F_{n+1})F_{n}\\\\&=(2F_{n-1}+F_{n})F_{n}.\\end{aligned}}$"
   ]
  },
  {
   "cell_type": "code",
   "execution_count": 9,
   "metadata": {},
   "outputs": [],
   "source": [
    "def matmult(a,b):  # Np .dot or matmult cause rounding errors, so bespoke matrix multiplication function used here,\n",
    "    zip_b = list(zip(*b))  # would be more efficient to calculate A_11, A_22, A_21 seperately as know A_21= A_12\n",
    "    return [[sum(ele_a*ele_b for ele_a, ele_b in zip(row_a, col_b)) \n",
    "             for col_b in zip_b] for row_a in a]\n",
    "def fib(n):\n",
    "    if n == 0:\n",
    "        return 0\n",
    "    if n < 0:\n",
    "        return  int((-1)**(n+1))*fib(abs(n))  # using formula for negative index\n",
    "    A = [[1,1],[1,0]]  # (([F_n+1,F_n],[F_n,F_n-1]))\n",
    "    X = [[1],[0]] # Calculated upon to form ([F_n+1, F_n])\n",
    "    # iterate through calculating A*n.X\n",
    "    while n > 0:\n",
    "        if n % 2 == 0:\n",
    "            # using power rule, M^(2n) = M^(2)^(n)\n",
    "            A = matmult(A,A)\n",
    "            n /= 2\n",
    "        else:\n",
    "            X = matmult(A,X)\n",
    "            n -= 1\n",
    "    return X[1][0] # Fn"
   ]
  },
  {
   "cell_type": "code",
   "execution_count": 10,
   "metadata": {},
   "outputs": [],
   "source": [
    "# Essentially, in pseudocode the above fib function calculates:"
   ]
  },
  {
   "cell_type": "markdown",
   "metadata": {},
   "source": [
    "${\\vec {X_n}}=\\mathbf {A} ^{n}{\\vec {X}}_{0}$"
   ]
  },
  {
   "cell_type": "code",
   "execution_count": 12,
   "metadata": {},
   "outputs": [],
   "source": [
    "# by"
   ]
  },
  {
   "cell_type": "markdown",
   "metadata": {},
   "source": [
    "while n > 0:"
   ]
  },
  {
   "cell_type": "markdown",
   "metadata": {},
   "source": [
    "\n",
    "\n",
    "if n=2m is even:\n",
    "\n",
    "$\\mathbf {A} ^{2m} = ({\\mathbf {A} ^{2}})^{m}$\n",
    "\n",
    "\n",
    "n => m , A => ${A} ^{2}$\n",
    "\n",
    "and if n=2m+1 is odd:\n",
    "\n",
    "$\\mathbf {A} ^{2m+1}{\\vec {X}}_{l}  = \\mathbf {A} ^{2m}{\\vec {X}}_{l+1}$\n",
    "\n",
    "n => 2m , $\\vec {X}_{l} => \\vec {X}_{l+1}$\n"
   ]
  }
 ],
 "metadata": {
  "kernelspec": {
   "display_name": "Python 3",
   "language": "python",
   "name": "python3"
  },
  "language_info": {
   "codemirror_mode": {
    "name": "ipython",
    "version": 3
   },
   "file_extension": ".py",
   "mimetype": "text/x-python",
   "name": "python",
   "nbconvert_exporter": "python",
   "pygments_lexer": "ipython3",
   "version": "3.7.0"
  },
  "toc": {
   "base_numbering": 1,
   "nav_menu": {},
   "number_sections": false,
   "sideBar": true,
   "skip_h1_title": false,
   "title_cell": "Table of Contents",
   "title_sidebar": "Contents",
   "toc_cell": false,
   "toc_position": {},
   "toc_section_display": true,
   "toc_window_display": true
  }
 },
 "nbformat": 4,
 "nbformat_minor": 2
}
